{
 "cells": [
  {
   "cell_type": "code",
   "execution_count": null,
   "id": "ae8fe5f2-e974-4500-8764-de1e63b71bce",
   "metadata": {},
   "outputs": [],
   "source": [
    "#Create a python program to sort the given list of tuples based on integer value using a\n",
    "lambda function.\n",
    "[('Sachin Tendulkar', 34357), ('Ricky Ponting', 27483), ('Jack Kallis', 25534), ('Virat Kohli', 24936)]"
   ]
  },
  {
   "cell_type": "code",
   "execution_count": 1,
   "id": "b3b7db27-f8eb-428f-835c-c493d8443b89",
   "metadata": {},
   "outputs": [
    {
     "name": "stdout",
     "output_type": "stream",
     "text": [
      "('Virat Kohli', 24936)\n",
      "('Jack Kallis', 25534)\n",
      "('Ricky Ponting', 27483)\n",
      "('Sachin Tendulkar', 34357)\n"
     ]
    }
   ],
   "source": [
    "stat = [('Sachin Tendulkar', 34357), ('Ricky Ponting', 27483), ('Jack Kallis', 25534), ('Virat Kohli', 24936)]\n",
    "\n",
    "sorted_stat = sorted(stat, key=lambda x: x[1])\n",
    "\n",
    "for item in sorted_stat:\n",
    "    print(item)"
   ]
  },
  {
   "cell_type": "code",
   "execution_count": null,
   "id": "6f6aa347-4c29-414e-9489-2fd8b404225b",
   "metadata": {},
   "outputs": [],
   "source": [
    "#Write a Python Program to find the squares of all the numbers in the given list of integers using\n",
    "lambda and map functions."
   ]
  },
  {
   "cell_type": "code",
   "execution_count": 1,
   "id": "701ed44e-c2e9-45a2-9134-fa98b75688d3",
   "metadata": {},
   "outputs": [],
   "source": [
    "l = [2,4,6,8]"
   ]
  },
  {
   "cell_type": "code",
   "execution_count": 2,
   "id": "c6157ea2-9005-49c1-a1c7-b5bb10000c26",
   "metadata": {},
   "outputs": [
    {
     "data": {
      "text/plain": [
       "[2, 4, 6, 8]"
      ]
     },
     "execution_count": 2,
     "metadata": {},
     "output_type": "execute_result"
    }
   ],
   "source": [
    "l"
   ]
  },
  {
   "cell_type": "code",
   "execution_count": 3,
   "id": "6494984c-5be6-4d06-b5aa-21127de82770",
   "metadata": {},
   "outputs": [
    {
     "data": {
      "text/plain": [
       "[4, 16, 36, 64]"
      ]
     },
     "execution_count": 3,
     "metadata": {},
     "output_type": "execute_result"
    }
   ],
   "source": [
    "list(map(lambda x : x**2, l))"
   ]
  },
  {
   "cell_type": "code",
   "execution_count": null,
   "id": "7d2daf54-55c1-4105-a4e4-d206d24cf7b0",
   "metadata": {},
   "outputs": [],
   "source": [
    "# Write a python program to convert the given list of integers into a tuple of strings. Use map and\n",
    "lambda functions"
   ]
  },
  {
   "cell_type": "code",
   "execution_count": 5,
   "id": "2c6ebe18-631a-4829-9560-1b706523b6aa",
   "metadata": {},
   "outputs": [
    {
     "name": "stdout",
     "output_type": "stream",
     "text": [
      "('1', '2', '3', '4', '5', '6', '7', '8', '9', '10')\n"
     ]
    }
   ],
   "source": [
    "l1 = [1, 2, 3, 4, 5,6,7,8,9,10]\n",
    "\n",
    "tuple_of_strings = tuple(map(lambda x: str(x), l1))\n",
    "\n",
    "print(tuple_of_strings)"
   ]
  },
  {
   "cell_type": "code",
   "execution_count": null,
   "id": "808c96c9-c484-499f-8759-99332a961d81",
   "metadata": {},
   "outputs": [],
   "source": [
    "# Write a python program using reduce function to compute the product of a list containing numbers\n",
    "from 1 to 25."
   ]
  },
  {
   "cell_type": "code",
   "execution_count": 4,
   "id": "1b1933da-9f93-44b9-9790-d1e1e20a735b",
   "metadata": {},
   "outputs": [],
   "source": [
    "from functools import reduce"
   ]
  },
  {
   "cell_type": "code",
   "execution_count": 2,
   "id": "755111bc-820b-465b-80e2-8eaeac4b6705",
   "metadata": {},
   "outputs": [
    {
     "name": "stdout",
     "output_type": "stream",
     "text": [
      "[1, 2, 3, 4, 5, 6, 7, 8, 9, 10, 11, 12, 13, 14, 15, 16, 17, 18, 19, 20, 21, 22, 23, 24, 25]\n"
     ]
    }
   ],
   "source": [
    "l3 = [num for num in range(1, 26)]\n",
    "print(l3)\n"
   ]
  },
  {
   "cell_type": "code",
   "execution_count": 6,
   "id": "601c4db4-3df1-4c0b-9156-1ea1ef6c9805",
   "metadata": {},
   "outputs": [
    {
     "data": {
      "text/plain": [
       "15511210043330985984000000"
      ]
     },
     "execution_count": 6,
     "metadata": {},
     "output_type": "execute_result"
    }
   ],
   "source": [
    "reduce(lambda x,y : x*y, l3)"
   ]
  },
  {
   "cell_type": "code",
   "execution_count": 9,
   "id": "91ad14b7-9cc2-4a20-b452-41c23802ed79",
   "metadata": {},
   "outputs": [],
   "source": [
    "numbers = list(range(1, 26))"
   ]
  },
  {
   "cell_type": "code",
   "execution_count": null,
   "id": "47de4e24-b960-4a24-9d08-50a9dc45ca5b",
   "metadata": {},
   "outputs": [],
   "source": [
    "Write a python program to filter the numbers in a given list that are divisible by 2 and 3 using the\n",
    "filter function. [2, 3, 6, 9, 27, 60, 90, 120, 55, 46]"
   ]
  },
  {
   "cell_type": "code",
   "execution_count": 12,
   "id": "705bb5c9-aed8-4467-ab10-643f53b6c698",
   "metadata": {},
   "outputs": [],
   "source": [
    "l4 = [2, 3, 6, 9, 27, 60, 90, 120, 55, 46]"
   ]
  },
  {
   "cell_type": "code",
   "execution_count": 13,
   "id": "ad039b8e-dc2b-4897-a91e-66a1f158cbde",
   "metadata": {},
   "outputs": [
    {
     "name": "stdout",
     "output_type": "stream",
     "text": [
      "[6, 60, 90, 120]\n"
     ]
    }
   ],
   "source": [
    "divisible_numbers = list(filter(lambda x: x % 2 == 0 and x % 3 == 0, l4))\n",
    "\n",
    "print(divisible_numbers)"
   ]
  },
  {
   "cell_type": "code",
   "execution_count": null,
   "id": "0d30cc8c-76cf-4fe2-b511-cef5de058598",
   "metadata": {},
   "outputs": [],
   "source": [
    "Write a python program to find palindromes in the given list of strings using lambda and filter\n",
    "function. ['python', 'php', 'aba', 'radar', 'level']"
   ]
  },
  {
   "cell_type": "code",
   "execution_count": 14,
   "id": "4ca363e9-bc6d-42b7-bcc8-52fc55d88fde",
   "metadata": {},
   "outputs": [],
   "source": [
    "l5 = ['python', 'php', 'aba', 'radar', 'level']"
   ]
  },
  {
   "cell_type": "code",
   "execution_count": 15,
   "id": "654fe5f5-1c04-4295-9665-89fc605c99f9",
   "metadata": {},
   "outputs": [
    {
     "name": "stdout",
     "output_type": "stream",
     "text": [
      "['php', 'aba', 'radar', 'level']\n"
     ]
    }
   ],
   "source": [
    "palindromes = list(filter(lambda word: word == word[::-1], l5))\n",
    "\n",
    "print(palindromes)"
   ]
  },
  {
   "cell_type": "code",
   "execution_count": null,
   "id": "f8e8ddc8-42f6-4462-9053-ea9968e99cf1",
   "metadata": {},
   "outputs": [],
   "source": []
  }
 ],
 "metadata": {
  "kernelspec": {
   "display_name": "Python 3 (ipykernel)",
   "language": "python",
   "name": "python3"
  },
  "language_info": {
   "codemirror_mode": {
    "name": "ipython",
    "version": 3
   },
   "file_extension": ".py",
   "mimetype": "text/x-python",
   "name": "python",
   "nbconvert_exporter": "python",
   "pygments_lexer": "ipython3",
   "version": "3.10.8"
  }
 },
 "nbformat": 4,
 "nbformat_minor": 5
}
